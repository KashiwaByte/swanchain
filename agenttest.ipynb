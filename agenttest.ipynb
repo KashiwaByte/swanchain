{
 "cells": [
  {
   "cell_type": "code",
   "execution_count": null,
   "metadata": {},
   "outputs": [],
   "source": []
  },
  {
   "cell_type": "code",
   "execution_count": 1,
   "metadata": {},
   "outputs": [
    {
     "name": "stdout",
     "output_type": "stream",
     "text": [
      "sk1111\n"
     ]
    }
   ],
   "source": [
    "from Agents import base\n",
    "import openai\n",
    "\n",
    "work=base.Agent()\n",
    "work.getapi()\n",
    "print(work.api)\n"
   ]
  },
  {
   "cell_type": "code",
   "execution_count": 3,
   "metadata": {},
   "outputs": [
    {
     "name": "stdout",
     "output_type": "stream",
     "text": [
      "巴勒斯坦，全称巴勒斯坦国，是位于中东地区的一个地区，地处约旦河西岸和以色列海岸平原之间。巴勒斯坦是一个历史悠久的地区，具有丰富的文化和历史。它被认为是犹太教、基督教和伊斯兰教三大宗教的圣地之一。\n",
      "\n",
      "巴勒斯坦境内包括了包括加沙地带和约旦河西岸地区，其中约旦河西岸地区包括了东耶路撒冷和犹太人定居点。巴勒斯坦的首都是东耶路撒冷，但其地位仍然受到争议，以色列也将其视为其首都。\n",
      "\n",
      "巴勒斯坦与以色列之间长期存在着复杂的政治和冲突问题。巴勒斯坦人民一直在争取建立自己的独立国家，但与以色列之间的和平进程一直存在困难。巴以冲突影响了巴勒斯坦的发展和居民的生活。\n",
      "\n",
      "尽管面临许多挑战，巴勒斯坦拥有许多令人称赞的方面。该地区以其富有历史和文化遗产而闻名，包括耶路撒冷的老城区、巴勒斯坦居民的传统手工艺和文化表演。此外，巴勒斯坦还拥有美丽的地中海海岸线和山脉景观，吸引了许多游客。\n",
      "\n",
      "总之，巴勒斯坦是一个充满历史、文化和政治挑战的地区。虽然存在一些困难，但它也有自己独特的魅力和美丽之处。\n"
     ]
    }
   ],
   "source": [
    "work.chat(\"介绍一下巴勒斯坦\")"
   ]
  }
 ],
 "metadata": {
  "kernelspec": {
   "display_name": "swancreate",
   "language": "python",
   "name": "python3"
  },
  "language_info": {
   "codemirror_mode": {
    "name": "ipython",
    "version": 3
   },
   "file_extension": ".py",
   "mimetype": "text/x-python",
   "name": "python",
   "nbconvert_exporter": "python",
   "pygments_lexer": "ipython3",
   "version": "3.10.12"
  }
 },
 "nbformat": 4,
 "nbformat_minor": 2
}
